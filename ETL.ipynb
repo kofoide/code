{
 "cells": [
  {
   "cell_type": "code",
   "execution_count": 32,
   "metadata": {
    "collapsed": false
   },
   "outputs": [
    {
     "name": "stdout",
     "output_type": "stream",
     "text": [
      "4\n",
      "5\n"
     ]
    }
   ],
   "source": [
    "import pyodbc as odbc\n",
    "import datetime\n",
    "\n",
    "conn = odbc.connect(\"DSN=Local;Database=MetaData;APP=ETL\")\n",
    "curs = conn.cursor()\n",
    "\n",
    "# Get the Procs\n",
    "rows = curs.execute('SELECT ID, Name, ProcedureName FROM dbo.ETL ORDER BY ExecuteOrder').fetchall()\n",
    "\n",
    "curs_audit = conn.cursor()\n",
    "curs_proc = conn.cursor()\n",
    "today = datetime.date.today()\n",
    "\n",
    "# Loop through the procs\n",
    "for row in rows:\n",
    "    \n",
    "    # Add Audit Record to Start Process\n",
    "    curs_audit.execute('INSERT INTO dbo.ETLAudit(ETLID, RunDate, StartTime) VALUES(?, ?, GETDATE())', row[0], today)\n",
    "    ident = curs_audit.execute('SELECT @@IDENTITY').fetchone()[0]\n",
    "    curs_audit.commit()\n",
    "    \n",
    "    # Run the ETL Procedure\n",
    "    curs_proc.execute(\"EXEC ?\", row[2])\n",
    "    curs_proc.commit()\n",
    "    \n",
    "    # Update Audit Record to End Process\n",
    "    curs_audit.execute('UPDATE dbo.ETLAudit SET EndTime = GETDATE() WHERE ID = ?', ident)\n",
    "    curs_audit.commit()\n",
    "    \n",
    "conn.close()"
   ]
  },
  {
   "cell_type": "markdown",
   "metadata": {},
   "source": [
    "## Table for Procedures\n",
    "Put your ETL procs in here"
   ]
  },
  {
   "cell_type": "markdown",
   "metadata": {},
   "source": [
    "CREATE TABLE [dbo].[ETL](\n",
    "\t[ID] [int] IDENTITY(1,1) NOT NULL,\n",
    "\t[Name] [varchar](100) NOT NULL,\n",
    "\t[ProcedureName] [varchar](100) NOT NULL,\n",
    "    ExecuteOrder INT NOT NULL\n",
    ") ON [PRIMARY]"
   ]
  },
  {
   "cell_type": "markdown",
   "metadata": {},
   "source": [
    "## Table for Audit"
   ]
  },
  {
   "cell_type": "markdown",
   "metadata": {},
   "source": [
    "CREATE TABLE [dbo].[ETLAudit](\n",
    "\t[ID] [int] IDENTITY(1,1) NOT NULL,\n",
    "\t[ETLID] [int] NOT NULL,\n",
    "\t[RunDate] [date] NOT NULL,\n",
    "\t[StartTime] [datetime] NOT NULL,\n",
    "\t[EndTime] [datetime] NULL\n",
    ") ON [PRIMARY]"
   ]
  }
 ],
 "metadata": {
  "kernelspec": {
   "display_name": "Python 2",
   "language": "python",
   "name": "python2"
  },
  "language_info": {
   "codemirror_mode": {
    "name": "ipython",
    "version": 2
   },
   "file_extension": ".py",
   "mimetype": "text/x-python",
   "name": "python",
   "nbconvert_exporter": "python",
   "pygments_lexer": "ipython2",
   "version": "2.7.12"
  }
 },
 "nbformat": 4,
 "nbformat_minor": 1
}
