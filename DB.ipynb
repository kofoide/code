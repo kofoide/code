{
 "cells": [
  {
   "cell_type": "markdown",
   "metadata": {},
   "source": [
    "# Learning to Connect MSSQL"
   ]
  },
  {
   "cell_type": "code",
   "execution_count": null,
   "metadata": {
    "collapsed": true
   },
   "outputs": [],
   "source": [
    "import requests, json, time\n",
    "import pandas as pd\n",
    "import pandas.io.sql as psql\n",
    "import sqlalchemy\n",
    "import pyodbc as odbc\n",
    "\n",
    "import os\n",
    "import configparser, json"
   ]
  },
  {
   "cell_type": "code",
   "execution_count": null,
   "metadata": {
    "collapsed": false
   },
   "outputs": [],
   "source": [
    "print os.name"
   ]
  },
  {
   "cell_type": "code",
   "execution_count": null,
   "metadata": {
    "collapsed": false
   },
   "outputs": [],
   "source": [
    "parser = configparser.ConfigParser()\n",
    "if os.name == \"posix\":\n",
    "    parser.read(u'../../config.ini')\n",
    "else:\n",
    "    parser.read(u\"..\\..\\config.ini\")"
   ]
  },
  {
   "cell_type": "code",
   "execution_count": null,
   "metadata": {
    "collapsed": false
   },
   "outputs": [],
   "source": [
    "connProdDSN = parser.get(\"Hubspot\", 'ProdDSNConn')\n",
    "connProdDSNSA = parser.get(\"Hubspot\", \"ProdDSNConnSA\")\n",
    "connDWDSNSA = parser.get(\"Hubspot\", \"DynWareDSNConnSA\")\n",
    "connADDSNSA = parser.get(\"Hubspot\", \"AzureDevDSNConnSA\")"
   ]
  },
  {
   "cell_type": "code",
   "execution_count": null,
   "metadata": {
    "collapsed": false
   },
   "outputs": [],
   "source": [
    "conn = odbc.connect(connProdDSN, autocommit=True)\n",
    "curs = conn.cursor()\n",
    "\n",
    "# Test connection\n",
    "curs.execute(\"SELECT @@ServerName AS ServerName, DB_NAME() AS DatabaseName\")\n",
    "print curs.fetchone()"
   ]
  },
  {
   "cell_type": "code",
   "execution_count": null,
   "metadata": {
    "collapsed": false
   },
   "outputs": [],
   "source": [
    "meta_engine = sqlalchemy.create_engine(connADDSNSA)\n",
    "\n",
    "# Test the connection\n",
    "connection = meta_engine.connect()\n",
    "result = connection.execute(\"SELECT @@ServerName ServerName, DB_NAME() AS DatabaseName\")\n",
    "for row in result:\n",
    "    print row['ServerName']\n",
    "    print row['DatabaseName']"
   ]
  },
  {
   "cell_type": "code",
   "execution_count": null,
   "metadata": {
    "collapsed": true
   },
   "outputs": [],
   "source": []
  }
 ],
 "metadata": {
  "kernelspec": {
   "display_name": "Python 2",
   "language": "python",
   "name": "python2"
  },
  "language_info": {
   "codemirror_mode": {
    "name": "ipython",
    "version": 2
   },
   "file_extension": ".py",
   "mimetype": "text/x-python",
   "name": "python",
   "nbconvert_exporter": "python",
   "pygments_lexer": "ipython2",
   "version": "2.7.12"
  }
 },
 "nbformat": 4,
 "nbformat_minor": 2
}
