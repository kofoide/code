{
 "cells": [
  {
   "cell_type": "markdown",
   "metadata": {},
   "source": [
    "# Setup Mac & Python to connect to MSSQL with Pyodbc and SQLAlchemy"
   ]
  },
  {
   "cell_type": "code",
   "execution_count": null,
   "metadata": {
    "collapsed": false
   },
   "outputs": [],
   "source": [
    "import sqlalchemy\n",
    "import pyodbc\n",
    "import os, configparser"
   ]
  },
  {
   "cell_type": "markdown",
   "metadata": {},
   "source": [
    "### Change the location of the config.ini file to where you have it stored"
   ]
  },
  {
   "cell_type": "code",
   "execution_count": null,
   "metadata": {
    "collapsed": false
   },
   "outputs": [],
   "source": [
    "parser = configparser.ConfigParser()\n",
    "\n",
    "if os.name == \"posix\":\n",
    "    parser.read(u'../../../config.ini')\n",
    "else:\n",
    "    parser.read(u\"..\\..\\..\\config.ini\")\n",
    "    \n",
    "# Get connection strings from config\n",
    "connForProdPyodbc = parser.get(\"Database\", \"ProdDSNpyodbc\")\n",
    "connForProdSqlalchemy= parser.get(\"Database\", \"ProdDSNsqlalchemy\")\n",
    "connForAzureDevPyodbc = parser.get(\"Database\", \"AzureDevDSNpyodbc\")\n",
    "connForAzureDevSqlalchemy = parser.get(\"Database\", \"AzureDevDSNsqlalchemy\")"
   ]
  },
  {
   "cell_type": "markdown",
   "metadata": {},
   "source": [
    "### PYODBC"
   ]
  },
  {
   "cell_type": "code",
   "execution_count": null,
   "metadata": {
    "collapsed": false
   },
   "outputs": [],
   "source": [
    "conn = pyodbc.connect(connForProdPyodbc, autocommit=True)\n",
    "curs = conn.cursor()\n",
    "\n",
    "# Test connection\n",
    "curs.execute(\"SELECT @@ServerName AS ServerName, DB_NAME() AS DatabaseName\")\n",
    "print curs.fetchone()"
   ]
  },
  {
   "cell_type": "code",
   "execution_count": null,
   "metadata": {
    "collapsed": false
   },
   "outputs": [],
   "source": [
    "conn2 = pyodbc.connect(connForAzureDevPyodbc, autocommit=True)\n",
    "curs2 = conn2.cursor()\n",
    "\n",
    "# Test connection\n",
    "curs2.execute(\"SELECT @@ServerName AS ServerName, DB_NAME() AS DatabaseName\")\n",
    "print curs2.fetchone()"
   ]
  },
  {
   "cell_type": "markdown",
   "metadata": {},
   "source": [
    "### SQLAlchemy"
   ]
  },
  {
   "cell_type": "code",
   "execution_count": null,
   "metadata": {
    "collapsed": false
   },
   "outputs": [],
   "source": [
    "meta_engine = sqlalchemy.create_engine(connForProdSqlalchemy)\n",
    "\n",
    "# Test the connection\n",
    "connection = meta_engine.connect()\n",
    "result = connection.execute(\"SELECT @@ServerName ServerName, DB_NAME() AS DatabaseName\")\n",
    "for row in result:\n",
    "    print row['ServerName']\n",
    "    print row['DatabaseName']"
   ]
  },
  {
   "cell_type": "code",
   "execution_count": null,
   "metadata": {
    "collapsed": false
   },
   "outputs": [],
   "source": [
    "meta_engine2 = sqlalchemy.create_engine(connForAzureDevSqlalchemy)\n",
    "\n",
    "# Test the connection\n",
    "connection2 = meta_engine2.connect()\n",
    "result2 = connection2.execute(\"SELECT @@ServerName ServerName, DB_NAME() AS DatabaseName\")\n",
    "for row2 in result2:\n",
    "    print row2['ServerName']\n",
    "    print row2['DatabaseName']"
   ]
  },
  {
   "cell_type": "code",
   "execution_count": null,
   "metadata": {
    "collapsed": true
   },
   "outputs": [],
   "source": []
  }
 ],
 "metadata": {
  "kernelspec": {
   "display_name": "Python 2",
   "language": "python",
   "name": "python2"
  },
  "language_info": {
   "codemirror_mode": {
    "name": "ipython",
    "version": 2
   },
   "file_extension": ".py",
   "mimetype": "text/x-python",
   "name": "python",
   "nbconvert_exporter": "python",
   "pygments_lexer": "ipython2",
   "version": "2.7.13"
  }
 },
 "nbformat": 4,
 "nbformat_minor": 2
}
